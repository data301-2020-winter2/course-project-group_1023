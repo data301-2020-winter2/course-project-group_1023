{
 "cells": [
  {
   "cell_type": "code",
   "execution_count": 8,
   "id": "retired-evans",
   "metadata": {},
   "outputs": [],
   "source": [
    "from Scripts.project_functions import load_and_process"
   ]
  },
  {
   "cell_type": "code",
   "execution_count": 10,
   "id": "coupled-exploration",
   "metadata": {},
   "outputs": [],
   "source": [
    "data = load_and_process('../data/raw/weatherAUS.csv')"
   ]
  },
  {
   "cell_type": "code",
   "execution_count": null,
   "id": "silver-payroll",
   "metadata": {},
   "outputs": [],
   "source": []
  }
 ],
 "metadata": {
  "kernelspec": {
   "display_name": "Python 3",
   "language": "python",
   "name": "python3"
  },
  "language_info": {
   "codemirror_mode": {
    "name": "ipython",
    "version": 3
   },
   "file_extension": ".py",
   "mimetype": "text/x-python",
   "name": "python",
   "nbconvert_exporter": "python",
   "pygments_lexer": "ipython3",
   "version": "3.8.5"
  }
 },
 "nbformat": 4,
 "nbformat_minor": 5
}
