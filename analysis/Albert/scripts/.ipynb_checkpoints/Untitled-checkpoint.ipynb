{
 "cells": [
  {
   "cell_type": "code",
   "execution_count": null,
   "id": "lucky-permission",
   "metadata": {},
   "outputs": [],
   "source": [
    "def load_and_process_AUS(url_or_path_to_csv_file):\n",
    "\n",
    "    # Method Chain 1 (Load data and deal with missing data)\n",
    "\n",
    "    df1 = (\n",
    "          pd.read_csv(url_or_path_to_csv_file)\n",
    "          .drop(columns=['Evaporation','Sunshine','Cloud9am','Cloud3pm','RainToday','RainTomorrow'])\n",
    "          .rename(columns={'Rainfall':\"Percipitation\"})\n",
    "          .dropna()\n",
    "          \n",
    "      )\n",
    "\n",
    "    # Method Chain 2 (Resetting index)\n",
    "\n",
    "    df2 = (\n",
    "          df1\n",
    "          .reset_index(drop=True)\n",
    "      )\n",
    "\n",
    "    # Make sure to return the latest dataframe\n",
    "\n",
    "    return df2 "
   ]
  }
 ],
 "metadata": {
  "kernelspec": {
   "display_name": "Python 3",
   "language": "python",
   "name": "python3"
  },
  "language_info": {
   "codemirror_mode": {
    "name": "ipython",
    "version": 3
   },
   "file_extension": ".py",
   "mimetype": "text/x-python",
   "name": "python",
   "nbconvert_exporter": "python",
   "pygments_lexer": "ipython3",
   "version": "3.8.5"
  }
 },
 "nbformat": 4,
 "nbformat_minor": 5
}
