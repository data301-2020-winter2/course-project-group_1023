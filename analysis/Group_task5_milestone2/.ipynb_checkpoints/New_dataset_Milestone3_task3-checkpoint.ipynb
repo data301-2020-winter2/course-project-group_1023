{
 "cells": [
  {
   "cell_type": "markdown",
   "id": "sustainable-research",
   "metadata": {},
   "source": [
    "#### Task 3 milstone 3 \n",
    "* Creating a new dataset for Tableau \n"
   ]
  },
  {
   "cell_type": "code",
   "execution_count": 4,
   "id": "early-oasis",
   "metadata": {},
   "outputs": [],
   "source": [
    "from Scripts.project_functions import load_and_process "
   ]
  },
  {
   "cell_type": "code",
   "execution_count": 5,
   "id": "specialized-check",
   "metadata": {},
   "outputs": [],
   "source": [
    "data_set= load_and_process('../../data/raw/weatherAUS.csv')\n"
   ]
  },
  {
   "cell_type": "code",
   "execution_count": 6,
   "id": "precious-washington",
   "metadata": {},
   "outputs": [],
   "source": [
    "data_set.to_csv('../../data/processed/data.csv')"
   ]
  },
  {
   "cell_type": "code",
   "execution_count": null,
   "id": "large-intermediate",
   "metadata": {},
   "outputs": [],
   "source": []
  }
 ],
 "metadata": {
  "kernelspec": {
   "display_name": "Python 3",
   "language": "python",
   "name": "python3"
  },
  "language_info": {
   "codemirror_mode": {
    "name": "ipython",
    "version": 3
   },
   "file_extension": ".py",
   "mimetype": "text/x-python",
   "name": "python",
   "nbconvert_exporter": "python",
   "pygments_lexer": "ipython3",
   "version": "3.8.5"
  }
 },
 "nbformat": 4,
 "nbformat_minor": 5
}
