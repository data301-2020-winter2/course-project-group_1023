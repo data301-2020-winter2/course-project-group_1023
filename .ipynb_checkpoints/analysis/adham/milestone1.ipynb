import pandas as pd
print(pd.__version__)
data= pd.read_csv("/data/raw/weatherAUS.csv")
print(data)
